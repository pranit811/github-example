{
 "cells": [
  {
   "cell_type": "markdown",
   "metadata": {},
   "source": [
    "# Introduction: objective\n",
    "\n",
    "Lets assume you never visit US before. And you want to eat only burger. So you are finding a place where you can find a lot of number of shops of burger.The problem we aim to solve is to analyze the burger stores’ locations in the major US cities. Find the best place for our tourist for good burger.\n",
    "\n"
   ]
  },
  {
   "cell_type": "markdown",
   "metadata": {},
   "source": [
    "# Data:\n",
    "I will use the FourSquare API to collect data about locations of burger stores in 5 major US cities which are: New York,NY, San Francisco, CA,Jersey City, NJ, Boston, MA and Chicago,IL.These are one of the most populated US cities and I am where tourist can find good restaurant for burger.\n",
    "\n",
    "1) Geographical coordinate of cities \n",
    "\n",
    "2) Favourite restaurants \n",
    "\n",
    "3) Shopping complex and facilities for families."
   ]
  },
  {
   "cell_type": "code",
   "execution_count": 1,
   "metadata": {},
   "outputs": [
    {
     "name": "stdout",
     "output_type": "stream",
     "text": [
      "Libraries imported.\n"
     ]
    }
   ],
   "source": [
    "import numpy as np # library to handle data in a vectorized manner\n",
    "\n",
    "import pandas as pd # library for data analsysis\n",
    "pd.set_option('display.max_columns', None)\n",
    "pd.set_option('display.max_rows', None)\n",
    "import requests # library to handle requests\n",
    "from pandas.io.json import json_normalize # tranform JSON file into a pandas dataframe\n",
    "import folium # map rendering library\n",
    "\n",
    "print('Libraries imported.')"
   ]
  },
  {
   "cell_type": "code",
   "execution_count": 2,
   "metadata": {},
   "outputs": [
    {
     "name": "stdout",
     "output_type": "stream",
     "text": [
      "Your credentails:\n",
      "CLIENT_ID: UP1DLMNZTHCTJVGIJCZYTRNO3BHYKOGZ3GPVKRMN5KJSX5BS\n"
     ]
    }
   ],
   "source": [
    "CLIENT_ID = 'UP1DLMNZTHCTJVGIJCZYTRNO3BHYKOGZ3GPVKRMN5KJSX5BS' # your Foursquare ID\n",
    "CLIENT_SECRET = '' # your Foursquare Secret\n",
    "VERSION = '20180605' # Foursquare API version\n",
    "\n",
    "print('Your credentails:')\n",
    "print('CLIENT_ID: ' + CLIENT_ID)"
   ]
  },
  {
   "cell_type": "code",
   "execution_count": 3,
   "metadata": {},
   "outputs": [],
   "source": [
    "LIMIT = 500 # Maximum is 100\n",
    "cities = [\"New York, NY\", 'Chicago, IL', 'San Francisco, CA', 'Jersey City, NJ', 'Boston, MA']\n",
    "results = {}\n",
    "for city in cities:\n",
    "    url = 'https://api.foursquare.com/v2/venues/explore?&client_id={}&client_secret={}&v={}&near={}&limit={}&categoryId={}'.format(\n",
    "        CLIENT_ID, \n",
    "        CLIENT_SECRET, \n",
    "        VERSION, \n",
    "        city,\n",
    "        LIMIT,\n",
    "        \"4bf58dd8d48988d1ca941735\") \n",
    "    results[city] = requests.get(url).json()\n"
   ]
  },
  {
   "cell_type": "code",
   "execution_count": null,
   "metadata": {},
   "outputs": [],
   "source": [
    "df_venues={}\n",
    "for city in cities:\n",
    "    venues = json_normalize(results[city]['response']['groups'][0]['items'])\n",
    "    df_venues[city] = venues[['venue.name', 'venue.location.address', 'venue.location.lat', 'venue.location.lng']]\n",
    "    df_venues[city].columns = ['Name', 'Address', 'Lat', 'Lng']"
   ]
  },
  {
   "cell_type": "code",
   "execution_count": null,
   "metadata": {},
   "outputs": [],
   "source": [
    "maps = {}\n",
    "for city in cities:\n",
    "    city_lat = np.mean([results[city]['response']['geocode']['geometry']['bounds']['ne']['lat'],\n",
    "                        results[city]['response']['geocode']['geometry']['bounds']['sw']['lat']])\n",
    "    city_lng = np.mean([results[city]['response']['geocode']['geometry']['bounds']['ne']['lng'],\n",
    "                        results[city]['response']['geocode']['geometry']['bounds']['sw']['lng']])\n",
    "    maps[city] = folium.Map(location=[city_lat, city_lng], zoom_start=11)\n",
    "\n",
    "    # add markers to map\n",
    "    for lat, lng, label in zip(df_venues[city]['Lat'], df_venues[city]['Lng'], df_venues[city]['Name']):\n",
    "        label = folium.Popup(label, parse_html=True)\n",
    "        folium.CircleMarker(\n",
    "            [lat, lng],\n",
    "            radius=5,\n",
    "            popup=label,\n",
    "            color='blue',\n",
    "            fill=True,\n",
    "            fill_color='#3186cc',\n",
    "            fill_opacity=0.7,\n",
    "            parse_html=False).add_to(maps[city])  \n",
    "    print(f\"Total number of pizza places in {city} = \", results[city]['response']['totalResults'])\n",
    "    print(\"Showing Top 100\")"
   ]
  },
  {
   "cell_type": "code",
   "execution_count": null,
   "metadata": {},
   "outputs": [],
   "source": [
    "maps[cities[0]]"
   ]
  },
  {
   "cell_type": "code",
   "execution_count": null,
   "metadata": {},
   "outputs": [],
   "source": [
    "maps[cities[1]]"
   ]
  },
  {
   "cell_type": "code",
   "execution_count": null,
   "metadata": {},
   "outputs": [],
   "source": [
    "maps[cities[2]]"
   ]
  },
  {
   "cell_type": "code",
   "execution_count": null,
   "metadata": {},
   "outputs": [],
   "source": [
    "maps[cities[3]]"
   ]
  },
  {
   "cell_type": "code",
   "execution_count": null,
   "metadata": {},
   "outputs": [],
   "source": [
    "maps[cities[4]]"
   ]
  },
  {
   "cell_type": "markdown",
   "metadata": {},
   "source": [
    "We can see that New York and Jersey City are the most dense cities with burger places. And better than that, they are just one shore away.\n",
    "\n",
    "However, Let's have a concrete measure of this density.\n",
    "\n",
    "For this I will use some basic statistics. I will get the mean location of the burger places which should be near to most of them if they are really dense or far if not.\n",
    "\n",
    "Next I will take the average of the distance of the venues to the mean coordinates"
   ]
  },
  {
   "cell_type": "code",
   "execution_count": null,
   "metadata": {},
   "outputs": [],
   "source": [
    "maps = {}\n",
    "for city in cities:\n",
    "    city_lat = np.mean([results[city]['response']['geocode']['geometry']['bounds']['ne']['lat'],\n",
    "                        results[city]['response']['geocode']['geometry']['bounds']['sw']['lat']])\n",
    "    city_lng = np.mean([results[city]['response']['geocode']['geometry']['bounds']['ne']['lng'],\n",
    "                        results[city]['response']['geocode']['geometry']['bounds']['sw']['lng']])\n",
    "    maps[city] = folium.Map(location=[city_lat, city_lng], zoom_start=11)\n",
    "    venues_mean_coor = [df_venues[city]['Lat'].mean(), df_venues[city]['Lng'].mean()] \n",
    "    # add markers to map\n",
    "    for lat, lng, label in zip(df_venues[city]['Lat'], df_venues[city]['Lng'], df_venues[city]['Name']):\n",
    "        label = folium.Popup(label, parse_html=True)\n",
    "        folium.CircleMarker(\n",
    "            [lat, lng],\n",
    "            radius=5,\n",
    "            popup=label,\n",
    "            color='blue',\n",
    "            fill=True,\n",
    "            fill_color='#3186cc',\n",
    "            fill_opacity=0.7,\n",
    "            parse_html=False).add_to(maps[city])\n",
    "        folium.PolyLine([venues_mean_coor, [lat, lng]], color=\"green\", weight=1.5, opacity=0.5).add_to(maps[city])\n",
    "    \n",
    "    label = folium.Popup(\"Mean Co-ordinate\", parse_html=True)\n",
    "    folium.CircleMarker(\n",
    "        venues_mean_coor,\n",
    "        radius=10,\n",
    "        popup=label,\n",
    "        color='green',\n",
    "        fill=True,\n",
    "        fill_color='#3186cc',\n",
    "        fill_opacity=0.7,\n",
    "        parse_html=False).add_to(maps[city])\n",
    "\n",
    "    print(city)\n",
    "    print(\"Mean Distance from Mean coordinates\")\n",
    "    print(np.mean(np.apply_along_axis(lambda x: np.linalg.norm(x - venues_mean_coor),1,df_venues[city][['Lat','Lng']].values)))"
   ]
  },
  {
   "cell_type": "markdown",
   "metadata": {},
   "source": [
    "New York, NY\n",
    "Mean Distance from Mean coordinates\n",
    "0.02155584712137211\n",
    "Chicago, IL\n",
    "Mean Distance from Mean coordinates\n",
    "0.052804625789718715\n",
    "San Francisco, CA\n",
    "Mean Distance from Mean coordinates\n",
    "0.028633234082617753\n",
    "Jersey City, NJ\n",
    "Mean Distance from Mean coordinates\n",
    "0.02995019447478735\n",
    "Boston, MA\n",
    "Mean Distance from Mean coordinates\n",
    "0.03512614671610634"
   ]
  },
  {
   "cell_type": "code",
   "execution_count": null,
   "metadata": {},
   "outputs": [],
   "source": [
    "maps[cities[0]]"
   ]
  },
  {
   "cell_type": "code",
   "execution_count": null,
   "metadata": {},
   "outputs": [],
   "source": [
    "maps[cities[1]]"
   ]
  },
  {
   "cell_type": "code",
   "execution_count": null,
   "metadata": {},
   "outputs": [],
   "source": [
    "maps[cities[2]]"
   ]
  },
  {
   "cell_type": "code",
   "execution_count": null,
   "metadata": {},
   "outputs": [],
   "source": [
    "maps[cities[3]]"
   ]
  },
  {
   "cell_type": "code",
   "execution_count": null,
   "metadata": {},
   "outputs": [],
   "source": [
    "maps[cities[4]]\n"
   ]
  },
  {
   "cell_type": "markdown",
   "metadata": {},
   "source": [
    "Another observation is that there is one really far away burger store which would possible increase its score to be beaten by New York So let's try to remove it and calculate it again"
   ]
  },
  {
   "cell_type": "code",
   "execution_count": null,
   "metadata": {},
   "outputs": [],
   "source": [
    "city = 'Jersey City, NJ'\n",
    "venues_mean_coor = [df_venues[city]['Lat'].mean(), df_venues[city]['Lng'].mean()] \n",
    "\n",
    "print(city)\n",
    "print(\"Mean Distance from Mean coordinates\")\n",
    "dists = np.apply_along_axis(lambda x: np.linalg.norm(x - venues_mean_coor),1,df_venues[city][['Lat','Lng']].values)\n",
    "dists.sort()\n",
    "print(np.mean(dists[:-1]))# Ignore the biggest distance"
   ]
  },
  {
   "cell_type": "markdown",
   "metadata": {},
   "source": [
    "Jersey City, NJ\n",
    "Mean Distance from Mean coordinates\n",
    "0.021995384838861428\n",
    "That puts Jersey City back in the first place which makes our tourist happy."
   ]
  },
  {
   "cell_type": "code",
   "execution_count": null,
   "metadata": {},
   "outputs": [],
   "source": []
  }
 ],
 "metadata": {
  "kernelspec": {
   "display_name": "Python 3",
   "language": "python",
   "name": "python3"
  },
  "language_info": {
   "codemirror_mode": {
    "name": "ipython",
    "version": 3
   },
   "file_extension": ".py",
   "mimetype": "text/x-python",
   "name": "python",
   "nbconvert_exporter": "python",
   "pygments_lexer": "ipython3",
   "version": "3.7.4"
  }
 },
 "nbformat": 4,
 "nbformat_minor": 4
}
